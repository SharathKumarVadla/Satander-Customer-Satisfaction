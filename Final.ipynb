{
  "cells": [
    {
      "cell_type": "code",
      "execution_count": null,
      "metadata": {
        "id": "ipBvbuDH7O3H"
      },
      "outputs": [],
      "source": [
        "!pip install xgboost --upgrade\n",
        "!pip install tensorflow --upgrade\n",
        "!pip install tensorflow_addons"
      ]
    },
    {
      "cell_type": "code",
      "execution_count": 2,
      "metadata": {
        "colab": {
          "base_uri": "https://localhost:8080/"
        },
        "id": "IXW7VJtU7Y1U",
        "outputId": "c27bc017-a4a4-4a3d-d415-fcbd2e2309bc"
      },
      "outputs": [
        {
          "output_type": "stream",
          "name": "stdout",
          "text": [
            "Drive already mounted at /content/drive; to attempt to forcibly remount, call drive.mount(\"/content/drive\", force_remount=True).\n"
          ]
        }
      ],
      "source": [
        "from google.colab import drive\n",
        "drive.mount('/content/drive')"
      ]
    },
    {
      "cell_type": "code",
      "execution_count": 3,
      "metadata": {
        "id": "3rz2IgbT7aqV"
      },
      "outputs": [],
      "source": [
        "import pandas as pd\n",
        "pd.set_option('display.max_columns', None)\n",
        "pd.set_option('display.max_rows', None)\n",
        "pd.set_option('display.float_format', lambda x: '%.3f' % x)\n",
        "import matplotlib.pyplot as plt\n",
        "import seaborn as sns\n",
        "import warnings\n",
        "warnings.filterwarnings('ignore')\n",
        "from sklearn.feature_selection import VarianceThreshold\n",
        "import numpy as np\n",
        "import pickle\n",
        "from sklearn.model_selection import train_test_split\n",
        "from xgboost import XGBClassifier\n",
        "from sklearn.model_selection import RandomizedSearchCV,GridSearchCV\n",
        "from sklearn.metrics import roc_curve,auc\n",
        "from sklearn.ensemble import RandomForestClassifier\n",
        "from sklearn.calibration import CalibratedClassifierCV\n",
        "from sklearn.preprocessing import MinMaxScaler\n",
        "from sklearn.ensemble import AdaBoostClassifier\n",
        "from sklearn.neighbors import KNeighborsClassifier\n",
        "import tensorflow as tf\n",
        "from tensorflow import keras\n",
        "from keras.layers import Dense,Input,Activation,Dropout,BatchNormalization\n",
        "from keras.models import Model\n",
        "from keras.callbacks import ModelCheckpoint,EarlyStopping,LearningRateScheduler,ReduceLROnPlateau,TensorBoard\n",
        "from keras.utils import plot_model\n",
        "from keras.metrics import AUC\n",
        "from keras.optimizers import Adam\n",
        "import datetime\n",
        "import tensorflow_addons as tfa\n",
        "from sklearn.feature_selection import VarianceThreshold\n",
        "from sklearn.linear_model import LogisticRegression\n",
        "import shutil"
      ]
    },
    {
      "cell_type": "code",
      "source": [
        "import pandas as pd\n",
        "train = pd.read_csv(\"/content/drive/MyDrive/case_study_1/train.csv\")\n",
        "Y     = train['TARGET'].tolist()\n",
        "train.drop(['ID','TARGET'],axis=1,inplace=True)"
      ],
      "metadata": {
        "id": "e4Hbu_YNQWp4"
      },
      "execution_count": 4,
      "outputs": []
    },
    {
      "cell_type": "code",
      "execution_count": 5,
      "metadata": {
        "id": "C_x9Lmy4rN7g"
      },
      "outputs": [],
      "source": [
        "test = pd.read_csv(\"/content/drive/MyDrive/case_study_1/test.csv\")"
      ]
    },
    {
      "cell_type": "code",
      "execution_count": 6,
      "metadata": {
        "id": "p0hF7mbT74ON",
        "colab": {
          "base_uri": "https://localhost:8080/"
        },
        "outputId": "7e539f8a-0feb-4786-979a-baf7032810b5"
      },
      "outputs": [
        {
          "output_type": "execute_result",
          "data": {
            "text/plain": [
              "0.8557255502702267"
            ]
          },
          "metadata": {},
          "execution_count": 6
        }
      ],
      "source": [
        "def modelling(X,Y):\n",
        "  \"\"\"\n",
        "  This function returns AUC score using the best model found during the experiments\n",
        "  \"\"\"\n",
        "  with open('/content/drive/MyDrive/case_study_1/experiment_1/X_preprocessed','rb') as file:\n",
        "    X_preprocessed = pickle.load(file) \n",
        "  X = X[list(X_preprocessed.columns)].copy()\n",
        "\n",
        "  with open('/content/drive/MyDrive/case_study_1/experiment_1/standard_scalar','rb') as file:\n",
        "    standard_scalar_1 = pickle.load(file)\n",
        "  x_transformed = standard_scalar_1.transform(X)\n",
        "\n",
        "  with open('/content/drive/MyDrive/case_study_1/experiment_1/best_model','rb') as file:\n",
        "    best_model = pickle.load(file)  \n",
        "  y_pred = best_model.predict_proba(x_transformed)[:,1]\n",
        "\n",
        "  fpr,tpr,thresholds = roc_curve(Y,y_pred)\n",
        "  score =  auc(fpr,tpr)\n",
        "\n",
        "  return score\n",
        "modelling(train,Y)  "
      ]
    },
    {
      "cell_type": "code",
      "source": [
        "def estimate(test):\n",
        "  \"\"\"\n",
        "  This function returns the predictions using the best model found during the experiments\n",
        "  \"\"\"\n",
        "  with open('/content/drive/MyDrive/case_study_1/experiment_1/X_preprocessed','rb') as file:\n",
        "    X_preprocessed = pickle.load(file) \n",
        "  \n",
        "  test_topfeatures = test[list(X_preprocessed.columns)].copy()\n",
        "  with open('/content/drive/MyDrive/case_study_1/experiment_1/standard_scalar','rb') as file:\n",
        "    standard_scalar_1 = pickle.load(file)\n",
        "  x_transformed = standard_scalar_1.transform(test_topfeatures)\n",
        "\n",
        "  with open('/content/drive/MyDrive/case_study_1/experiment_1/best_model','rb') as file:\n",
        "    best_model = pickle.load(file) \n",
        "  y_pred = best_model.predict_proba(x_transformed)[:,1]\n",
        "  \n",
        "  return y_pred"
      ],
      "metadata": {
        "id": "eiyTySWwL0FM"
      },
      "execution_count": 7,
      "outputs": []
    },
    {
      "cell_type": "code",
      "source": [
        "estimate(test)"
      ],
      "metadata": {
        "colab": {
          "base_uri": "https://localhost:8080/"
        },
        "id": "buUsexaiTu_b",
        "outputId": "2183e9bc-b96d-49b9-cc3b-1802bb7f44b7"
      },
      "execution_count": 8,
      "outputs": [
        {
          "output_type": "execute_result",
          "data": {
            "text/plain": [
              "array([0.04552065, 0.04907413, 0.00208657, ..., 0.00349204, 0.05088374,\n",
              "       0.0015895 ], dtype=float32)"
            ]
          },
          "metadata": {},
          "execution_count": 8
        }
      ]
    }
  ],
  "metadata": {
    "colab": {
      "provenance": []
    },
    "kernelspec": {
      "display_name": "Python 3",
      "name": "python3"
    },
    "language_info": {
      "name": "python"
    }
  },
  "nbformat": 4,
  "nbformat_minor": 0
}